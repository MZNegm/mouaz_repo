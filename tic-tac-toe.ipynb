{
 "cells": [
  {
   "cell_type": "markdown",
   "id": "b27f4a0e",
   "metadata": {},
   "source": [
    "# Tic Tac Tow"
   ]
  },
  {
   "cell_type": "code",
   "execution_count": 1,
   "id": "d0d41303",
   "metadata": {},
   "outputs": [
    {
     "name": "stdout",
     "output_type": "stream",
     "text": [
      "Welcome to Tic Tac Toe\n"
     ]
    }
   ],
   "source": [
    "print(\"Welcome to Tic Tac Toe\")"
   ]
  },
  {
   "cell_type": "code",
   "execution_count": 2,
   "id": "871ee6fc",
   "metadata": {},
   "outputs": [
    {
     "name": "stdout",
     "output_type": "stream",
     "text": [
      "What is your name, player 1 ? A\n"
     ]
    }
   ],
   "source": [
    "player1 = input(\"What is your name, player 1 ? \")"
   ]
  },
  {
   "cell_type": "code",
   "execution_count": 3,
   "id": "a23a1d73",
   "metadata": {},
   "outputs": [
    {
     "name": "stdout",
     "output_type": "stream",
     "text": [
      "What is your name, player 2 ? B\n"
     ]
    }
   ],
   "source": [
    "player2 = input(\"What is your name, player 2 ? \")"
   ]
  },
  {
   "cell_type": "code",
   "execution_count": 4,
   "id": "7758527a",
   "metadata": {},
   "outputs": [
    {
     "name": "stdout",
     "output_type": "stream",
     "text": [
      "Let's Start Playing A with 'x' and B with 'o'\n"
     ]
    }
   ],
   "source": [
    "print (\"Let\\'s Start Playing {} with \\'x\\' and {} with \\'o\\'\".format(player1 , player2))"
   ]
  },
  {
   "cell_type": "code",
   "execution_count": 5,
   "id": "89575c85",
   "metadata": {},
   "outputs": [],
   "source": [
    "board = [[\" \",\" \",\" \"],[\" \",\" \",\" \"],[\" \",\" \",\" \"]]"
   ]
  },
  {
   "cell_type": "code",
   "execution_count": 6,
   "id": "0742b374",
   "metadata": {},
   "outputs": [],
   "source": [
    "turn = 0   #control turns between the two players\n",
    "win  = 0    #check for win (=1 if a player win)\n",
    "tie  = 0    #check for tie (=1 if there is a tie)\n",
    "winner = '' #winner symbol "
   ]
  },
  {
   "cell_type": "markdown",
   "id": "29bf7a6c",
   "metadata": {},
   "source": [
    "# Function game_print\n"
   ]
  },
  {
   "cell_type": "code",
   "execution_count": 7,
   "id": "da6ad370",
   "metadata": {},
   "outputs": [],
   "source": [
    "def game_print (board):\n",
    "    '''\n",
    "    This function should take the game board as a parameter and print the board.\n",
    "    \n",
    "    '''\n",
    "    for row in board:\n",
    "        print (\"-----------------\")\n",
    "        for element in row:\n",
    "            print(\"|\",end = \"  \")\n",
    "            print ( element, end = \"  \")\n",
    "        print(\"|\",end = \"  \")\n",
    "        print(\"\\n\")   \n",
    "    print (\"-----------------\")"
   ]
  },
  {
   "cell_type": "code",
   "execution_count": null,
   "id": "a826f3b9",
   "metadata": {},
   "outputs": [],
   "source": []
  },
  {
   "cell_type": "markdown",
   "id": "6f629f52",
   "metadata": {},
   "source": [
    "# Function tie_game"
   ]
  },
  {
   "cell_type": "code",
   "execution_count": 8,
   "id": "1a2649ed",
   "metadata": {},
   "outputs": [],
   "source": [
    "def tie_game(board):\n",
    "    \n",
    "    '''\n",
    "    This function check for tie\n",
    "    if all cells not empty and no one win it return 1 (tie)\n",
    "    '''\n",
    "\n",
    "    for row in board:\n",
    "        for cell in row:\n",
    "            if cell == \" \":\n",
    "                tie = 0\n",
    "                return tie\n",
    "    tie = 1     \n",
    "    return tie "
   ]
  },
  {
   "cell_type": "code",
   "execution_count": null,
   "id": "f3950ddd",
   "metadata": {},
   "outputs": [],
   "source": []
  },
  {
   "cell_type": "markdown",
   "id": "b95f3aba",
   "metadata": {},
   "source": [
    "# Function win_game"
   ]
  },
  {
   "cell_type": "code",
   "execution_count": 9,
   "id": "cece0d74",
   "metadata": {},
   "outputs": [],
   "source": [
    "def win_game (board):\n",
    "    \n",
    "    '''\n",
    "    This function check for win in all rows, columns and diagonals\n",
    "    and return the winner symbol\n",
    "    '''\n",
    "    win = 0\n",
    "    global winner\n",
    "    winner = ''\n",
    "\n",
    "    # check for rows \n",
    "    for row in board:\n",
    "        if (row.count(row[0]) == len(row)) and (row[0] != \" \"): \n",
    "            winner = row[0]\n",
    "            win = 1\n",
    "\n",
    "    # check for columns \n",
    "    lst = list(map(lambda x, y, z:  x+y+z , board[0],board[1],board[2]))  \n",
    "    transposed_board = [list(col) for col in lst]\n",
    "\n",
    "    for row in transposed_board:\n",
    "        if (row.count(row[0]) == len(row)) and (row[0] != \" \"): \n",
    "            winner = row[0]\n",
    "            win = 1\n",
    "            \n",
    "    # check for diagonals \n",
    "\n",
    "    if ((board[0][0] == board[1][1]) and (board[0][0] == board[2][2]) and  (board[1][1] != \" \")):\n",
    "        winner = board[0][0]\n",
    "        win = 1 \n",
    "        \n",
    "    if ((board[0][2] == board[1][1]) and (board[0][2] == board[2][0]) and (board[1][1] != \" \")):\n",
    "        winner = board[0][2]\n",
    "        win = 1 \n",
    "        \n",
    "    return win    \n",
    "    "
   ]
  },
  {
   "cell_type": "code",
   "execution_count": null,
   "id": "714716d5",
   "metadata": {},
   "outputs": [],
   "source": []
  },
  {
   "cell_type": "markdown",
   "id": "63ae9654",
   "metadata": {},
   "source": [
    "# Function _ update_board"
   ]
  },
  {
   "cell_type": "code",
   "execution_count": 10,
   "id": "03208cf0",
   "metadata": {},
   "outputs": [],
   "source": [
    "def update_board (board, move_r, move_c, turn):\n",
    "    \n",
    "    '''\n",
    "    This function update board during playing, and control Role switching between the two players \n",
    "    and check input errors as entering wrong number, entering symbol in not empty cell.\n",
    "    \n",
    "    \n",
    "    '''\n",
    "    \n",
    "    \n",
    "    if turn == 0:\n",
    "        \n",
    "        if (move_r in list(range(0,3))) and (move_c in list(range(0,3))):\n",
    "        \n",
    "            if (board [move_r][move_c] == \" \"):\n",
    "                board [move_r][move_c] = \"x\"\n",
    "                turn = 1\n",
    "                return turn\n",
    "            else: \n",
    "                print(\"\\nInvalid Input, Re-input in an Empty Cell,\")\n",
    "                return turn \n",
    "        \n",
    "        else:\n",
    "            print(\"\\nInvalid Input, Re-input a Valid Choice\")\n",
    "            return turn\n",
    "         \n",
    "\n",
    "        \n",
    "    if turn == 1:\n",
    "        \n",
    "        if (move_r in list(range(0,3))) and (move_c in list(range(0,3))):\n",
    "        \n",
    "            if (board [move_r][move_c] == \" \"):\n",
    "                board [move_r][move_c] = \"o\"\n",
    "                turn = 0\n",
    "                return turn\n",
    "            else: \n",
    "                print(\"\\nInvalid Input, Re-input in an Empty Cell,\")\n",
    "                return turn \n",
    "        \n",
    "        else:\n",
    "            print(\"\\nInvalid Input, Re-input a Valid Choice\")\n",
    "            return turn"
   ]
  },
  {
   "cell_type": "code",
   "execution_count": null,
   "id": "d1d9dbb1",
   "metadata": {},
   "outputs": [],
   "source": []
  },
  {
   "cell_type": "markdown",
   "id": "8583812f",
   "metadata": {},
   "source": [
    "# Function _ game"
   ]
  },
  {
   "cell_type": "markdown",
   "id": "d1de22c9",
   "metadata": {},
   "source": [
    "## here the start !"
   ]
  },
  {
   "cell_type": "code",
   "execution_count": 11,
   "id": "eb2f67dc",
   "metadata": {},
   "outputs": [],
   "source": [
    "def game (turn = 0):\n",
    "    \n",
    "    '''\n",
    "    the start (main function)\n",
    "    \n",
    "    '''\n",
    "    \n",
    "    \n",
    "    global win\n",
    "    global tie\n",
    "    \n",
    "    win = 0\n",
    "    tie = 0\n",
    "    \n",
    "    board = [[\" \",\" \",\" \"],[\" \",\" \",\" \"],[\" \",\" \",\" \"]]\n",
    "    \n",
    "    print(\"The Board Now\")\n",
    "    game_print (board)\n",
    "    \n",
    "    while (win == 0 or tie == 0):\n",
    "        \n",
    "        win = win_game(board)\n",
    "        tie = tie_game(board)\n",
    "        \n",
    "        \n",
    "        if (win == 1):\n",
    "            \n",
    "            print(\"The Game Ended\")\n",
    "            if (winner == \"x\"):\n",
    "                print(\"The winner is player1, well done {} !\".format(player1))\n",
    "            if (winner == \"o\"):\n",
    "                print(\"The winner is player2, well done {} !\".format(player2)) \n",
    "            break\n",
    "        \n",
    "            \n",
    "        if (tie == 1):\n",
    "            print(\"The Game Ended with a Tie\")\n",
    "            break\n",
    "            \n",
    "    \n",
    "        if turn == 0:\n",
    "            player = player1\n",
    "            \n",
    "            try:\n",
    "                move_r = int(input(\"\\nEnter Your row, between 0,2 {}  \".format(player)))\n",
    "                move_c = int(input(\"\\nEnter Your row, between 0,2 {}  \".format(player)))\n",
    "            except ValueError:\n",
    "                print(\"That was not a valid number.  Try a gain\")  \n",
    "                continue          \n",
    "            \n",
    "            turn = update_board(board, move_r, move_c,turn)\n",
    "            game_print(board)\n",
    "            if (turn == 1):\n",
    "                continue \n",
    "            \n",
    "        if turn == 1:\n",
    "            \n",
    "            player = player2\n",
    "            \n",
    "            try:\n",
    "                move_r = int(input(\"\\nEnter Your row, between 0,2 {}  \".format(player)))\n",
    "                move_c = int(input(\"\\nEnter Your row, between 0,2 {}  \".format(player)))\n",
    "            except ValueError:\n",
    "                print(\"That was not a valid number.  Try a gain\")  \n",
    "                continue   \n",
    "                \n",
    "            turn = update_board(board, move_r, move_c,turn)\n",
    "            game_print(board)\n",
    "            if (turn == 0):\n",
    "                continue \n",
    "\n"
   ]
  },
  {
   "cell_type": "code",
   "execution_count": null,
   "id": "a1a90f45",
   "metadata": {},
   "outputs": [],
   "source": []
  },
  {
   "cell_type": "code",
   "execution_count": null,
   "id": "01fdd07c",
   "metadata": {},
   "outputs": [],
   "source": [
    "game()"
   ]
  }
 ],
 "metadata": {
  "kernelspec": {
   "display_name": "Python 3 (ipykernel)",
   "language": "python",
   "name": "python3"
  },
  "language_info": {
   "codemirror_mode": {
    "name": "ipython",
    "version": 3
   },
   "file_extension": ".py",
   "mimetype": "text/x-python",
   "name": "python",
   "nbconvert_exporter": "python",
   "pygments_lexer": "ipython3",
   "version": "3.9.12"
  }
 },
 "nbformat": 4,
 "nbformat_minor": 5
}
